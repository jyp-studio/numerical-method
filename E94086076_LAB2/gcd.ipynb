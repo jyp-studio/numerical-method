{
 "cells": [
  {
   "cell_type": "code",
   "execution_count": 40,
   "id": "688a53ab",
   "metadata": {},
   "outputs": [],
   "source": [
    "def gcd(m: int,n: int)->int:\n",
    "    \"\"\" function of finding a greatest common divisor \"\"\"\n",
    "    if m <= 0 or n <= 0:\n",
    "        print(\"-------------------------------------\")\n",
    "        print(\"Please enter a number greater than 0.\")\n",
    "        print(\"-------------------------------------\")\n",
    "        a = int(input(\"Enter first positive integer (m):\"))\n",
    "        b = int(input(\"Enter second positive integer (n):\"))\n",
    "        gcd(a, b)\n",
    "    else:\n",
    "        if m >= n:\n",
    "            quotient = m // n\n",
    "            remainder = m % n\n",
    "            if remainder == 0:\n",
    "                print(\"Greatest common divisor:\", n)\n",
    "            else:\n",
    "                gcd(n, remainder)     \n",
    "        else:\n",
    "            gcd(n, m)"
   ]
  },
  {
   "cell_type": "code",
   "execution_count": 41,
   "id": "fbd82a2a",
   "metadata": {},
   "outputs": [
    {
     "name": "stdout",
     "output_type": "stream",
     "text": [
      "Greatest common divisor: 8\n"
     ]
    }
   ],
   "source": [
    "gcd(1304, 560)"
   ]
  },
  {
   "cell_type": "code",
   "execution_count": 42,
   "id": "ac14320d",
   "metadata": {},
   "outputs": [
    {
     "name": "stdout",
     "output_type": "stream",
     "text": [
      "-------------------------------------\n",
      "Please enter a number greater than 0.\n",
      "-------------------------------------\n",
      "Enter first positive integer (m):376\n",
      "Enter second positive integer (n):5\n",
      "Greatest common divisor: 1\n"
     ]
    }
   ],
   "source": [
    "gcd(0, 5)"
   ]
  },
  {
   "cell_type": "code",
   "execution_count": 43,
   "id": "b126bf65",
   "metadata": {},
   "outputs": [],
   "source": [
    "?gcd"
   ]
  },
  {
   "cell_type": "code",
   "execution_count": null,
   "id": "24f50b16",
   "metadata": {},
   "outputs": [],
   "source": []
  }
 ],
 "metadata": {
  "kernelspec": {
   "display_name": "Python 3 (ipykernel)",
   "language": "python",
   "name": "python3"
  },
  "language_info": {
   "codemirror_mode": {
    "name": "ipython",
    "version": 3
   },
   "file_extension": ".py",
   "mimetype": "text/x-python",
   "name": "python",
   "nbconvert_exporter": "python",
   "pygments_lexer": "ipython3",
   "version": "3.9.7"
  }
 },
 "nbformat": 4,
 "nbformat_minor": 5
}
