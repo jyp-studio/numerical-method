{
 "cells": [
  {
   "cell_type": "code",
   "execution_count": 20,
   "id": "e83d54e8",
   "metadata": {},
   "outputs": [],
   "source": [
    "import math\n",
    "\n",
    "def cos(x:float)->float:\n",
    "    \"\"\"Compute the approximation of cos(x)\"\"\"\n",
    "    N = 0\n",
    "    total = 1.0\n",
    "    while N < 12:\n",
    "        N += 1\n",
    "        N_fac = math.factorial(2 * N)\n",
    "        total += ((-1) ** N) * (x ** (2 * N)) / (N_fac)\n",
    "\n",
    "    print(f\"cos({x}) approximation is {total}\")"
   ]
  },
  {
   "cell_type": "code",
   "execution_count": 22,
   "id": "168a7b68",
   "metadata": {},
   "outputs": [
    {
     "name": "stdout",
     "output_type": "stream",
     "text": [
      "cos(2.3) approximation is -0.6662760212798241\n"
     ]
    }
   ],
   "source": [
    "cos(2.3)"
   ]
  },
  {
   "cell_type": "code",
   "execution_count": null,
   "id": "6ff8f727",
   "metadata": {},
   "outputs": [],
   "source": []
  }
 ],
 "metadata": {
  "kernelspec": {
   "display_name": "Python 3 (ipykernel)",
   "language": "python",
   "name": "python3"
  },
  "language_info": {
   "codemirror_mode": {
    "name": "ipython",
    "version": 3
   },
   "file_extension": ".py",
   "mimetype": "text/x-python",
   "name": "python",
   "nbconvert_exporter": "python",
   "pygments_lexer": "ipython3",
   "version": "3.9.7"
  }
 },
 "nbformat": 4,
 "nbformat_minor": 5
}
